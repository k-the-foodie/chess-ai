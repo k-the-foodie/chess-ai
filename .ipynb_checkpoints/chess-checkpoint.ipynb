{
 "cells": [
  {
   "cell_type": "code",
   "execution_count": 4,
   "metadata": {
    "collapsed": true
   },
   "outputs": [],
   "source": [
    "class tile:\n",
    "    \n",
    "    def __init__(self, tilenumber, piece = None):\n",
    "        self.tilenumber = tilenumber\n",
    "        # tile number needs to be immutable.\n",
    "        self.piece = piece\n",
    "        if self.piece == None:\n",
    "            self.isoccupied = False\n",
    "        else:\n",
    "            self.isoccupied = True\n",
    "        \n",
    "    def checkoccupancy(self):\n",
    "        return self.isoccupied\n",
    "    \n",
    "    def returnpiece(self):\n",
    "        return self.piece\n",
    "    \n",
    "    def add_piece(self, piece):\n",
    "        self.piece = piece\n",
    "        self.isoccupied = True"
   ]
  },
  {
   "cell_type": "code",
   "execution_count": null,
   "metadata": {
    "collapsed": true
   },
   "outputs": [],
   "source": [
    "class "
   ]
  },
  {
   "cell_type": "code",
   "execution_count": 5,
   "metadata": {
    "collapsed": true
   },
   "outputs": [],
   "source": [
    "board = {}\n",
    "for i in range(64):\n",
    "    board[chr(97+int(i))+str(i%8 +1)] = tile(i)"
   ]
  },
  {
   "cell_type": "code",
   "execution_count": 6,
   "metadata": {
    "collapsed": false
   },
   "outputs": [
    {
     "name": "stdout",
     "output_type": "stream",
     "text": [
      "False\n",
      "True\n",
      "white_king\n"
     ]
    }
   ],
   "source": [
    "print(board['a1'].checkoccupancy())\n",
    "board['a1'].add_piece('white_king')\n",
    "print(board['a1'].checkoccupancy())\n",
    "print(board['a1'].returnpiece())"
   ]
  },
  {
   "cell_type": "code",
   "execution_count": null,
   "metadata": {
    "collapsed": true
   },
   "outputs": [],
   "source": []
  }
 ],
 "metadata": {
  "anaconda-cloud": {},
  "kernelspec": {
   "display_name": "Python [Root]",
   "language": "python",
   "name": "Python [Root]"
  },
  "language_info": {
   "codemirror_mode": {
    "name": "ipython",
    "version": 3
   },
   "file_extension": ".py",
   "mimetype": "text/x-python",
   "name": "python",
   "nbconvert_exporter": "python",
   "pygments_lexer": "ipython3",
   "version": "3.5.2"
  }
 },
 "nbformat": 4,
 "nbformat_minor": 2
}
